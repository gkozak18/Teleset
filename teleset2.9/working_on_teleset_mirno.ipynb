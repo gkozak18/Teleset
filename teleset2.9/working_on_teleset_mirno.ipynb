{
 "cells": [
  {
   "cell_type": "code",
   "execution_count": 77,
   "id": "32ad55d7-429c-4949-a0f0-d44fb46c2999",
   "metadata": {},
   "outputs": [],
   "source": [
    "import json\n",
    "import torch\n",
    "import matplotlib.pyplot as plt\n",
    "import pandas as pd"
   ]
  },
  {
   "cell_type": "code",
   "execution_count": 80,
   "id": "4023b618-2956-41da-8416-8d18be1d16b8",
   "metadata": {},
   "outputs": [
    {
     "name": "stdout",
     "output_type": "stream",
     "text": [
      "Using device: cuda\n"
     ]
    }
   ],
   "source": [
    "device = torch.device('cuda' if torch.cuda.is_available() else 'cpu')\n",
    "print(f\"Using device: {device}\")"
   ]
  },
  {
   "cell_type": "code",
   "execution_count": 2,
   "id": "14e242a8-9348-4107-a481-1d150e3fa65e",
   "metadata": {},
   "outputs": [],
   "source": [
    "with open('mirno.json', 'r', encoding='utf-8') as file:\n",
    "    parsed_data = json.load(file)"
   ]
  },
  {
   "cell_type": "code",
   "execution_count": 3,
   "id": "bf2b0dba-b77b-4e68-9564-51ddbb115636",
   "metadata": {},
   "outputs": [],
   "source": [
    "array = []\n",
    "j = 0\n",
    "for i, element in enumerate(parsed_data.items()):\n",
    "    array.append(element)\n",
    "    if i > 10:\n",
    "        break"
   ]
  },
  {
   "cell_type": "code",
   "execution_count": 4,
   "id": "dfdbda47-2427-4935-92b2-a7109df91129",
   "metadata": {},
   "outputs": [],
   "source": [
    "data = array[3][1]"
   ]
  },
  {
   "cell_type": "code",
   "execution_count": 5,
   "id": "6d8ef965-acce-4f3c-bb68-8009fe7a2d06",
   "metadata": {},
   "outputs": [],
   "source": [
    "def get_text(ms_text):\n",
    "    text = \": '\"\n",
    "    if type(ms_text) == list:\n",
    "        for ms in ms_text:\n",
    "            if type(ms) == dict:\n",
    "                if ms[\"type\"] == \"mention_name\" or ms[\"type\"] == \"mention\":\n",
    "                    text += ms[\"text\"]\n",
    "                elif ms[\"type\"] == \"link\":\n",
    "                    text += ms[\"text\"]\n",
    "                elif ms[\"type\"] == \"text_link\":\n",
    "                    text += ms[\"text\"] + ms[\"href\"]\n",
    "                elif ms[\"type\"] == \"bank_card\":\n",
    "                    text += ms[\"text\"]\n",
    "                elif ms[\"type\"] == \"bold\":\n",
    "                    text += ms[\"text\"]\n",
    "                elif ms[\"type\"] == \"custom_emoji\":\n",
    "                    text += ms[\"text\"]\n",
    "                elif ms[\"type\"] == \"underline\":\n",
    "                    text += ms[\"text\"]\n",
    "                elif ms[\"type\"] == \"strikethrough\":\n",
    "                    text += ms[\"text\"]\n",
    "                elif ms[\"type\"] == \"bot_command\":\n",
    "                    text += ms[\"text\"]\n",
    "                elif ms[\"type\"] == \"phone\":\n",
    "                    text += ms[\"text\"]\n",
    "                elif ms[\"type\"] == \"hashtag\":\n",
    "                    text += \"хештег \" + ms[\"text\"]\n",
    "                elif ms[\"type\"] == \"italic\":\n",
    "                    text += ms[\"text\"]\n",
    "                elif ms[\"type\"] == \"blockquote\":\n",
    "                    text += ms[\"text\"]\n",
    "                else:\n",
    "                    text += ms\n",
    "    else:\n",
    "        text += ms_text\n",
    "    text += \"'\"\n",
    "    return text"
   ]
  },
  {
   "cell_type": "code",
   "execution_count": 6,
   "id": "c007acf6-85f6-41b1-a9cf-344d4b441a3f",
   "metadata": {},
   "outputs": [],
   "source": [
    "ids_to_text = {}\n",
    "for i in data:\n",
    "    if i[\"type\"] == \"message\":\n",
    "        ids_to_text[i[\"id\"]] = {\n",
    "            \"from\": i[\"from\"],\n",
    "            \"text\": get_text(i[\"text\"])\n",
    "        }\n",
    "    elif i[\"type\"] == \"service\":\n",
    "        ids_to_text[i[\"id\"]] = {\n",
    "            \"from\": i[\"actor\"],\n",
    "            \"text\": get_text(i[\"text\"])\n",
    "        }"
   ]
  },
  {
   "cell_type": "code",
   "execution_count": 7,
   "id": "a2e64dc9-846f-4849-82a0-4daff1c39909",
   "metadata": {},
   "outputs": [],
   "source": [
    "texts = []\n",
    "for message in data:\n",
    "    text = \"\"\n",
    "    if message[\"type\"] == \"message\":\n",
    "        ms_text = message[\"text\"]\n",
    "        ms_from = message[\"from\"]\n",
    "        # User name\n",
    "        if ms_from != None:\n",
    "            text += ms_from\n",
    "        else:\n",
    "            text += \"Unknown User\"\n",
    "        # Reply\n",
    "        if \"reply_to_message_id\" in message.keys():\n",
    "            ms_reply_id = message[\"reply_to_message_id\"]\n",
    "            try:\n",
    "                text += \" ответил \" + ids_to_text[ms_reply_id][\"from\"] + \" на \" + ids_to_text[ms_reply_id][\"text\"] + \" сообщением \"\n",
    "            except:\n",
    "                pass\n",
    "        text +=  get_text(ms_text)\n",
    "        #print(\"from:\", message[\"from\"], \"text:\", message[\"text\"])\n",
    "    if text != \"\":\n",
    "        texts.append(text)"
   ]
  },
  {
   "cell_type": "code",
   "execution_count": 8,
   "id": "0de82209-99fd-4751-8e89-fa39bc1c36cd",
   "metadata": {},
   "outputs": [
    {
     "data": {
      "text/plain": [
       "[\"Вася: 'Топ'\",\n",
       " \"Вася: 'Добавляейте шлюху за 40'\",\n",
       " \"Чешуя: 'Шо за?'\",\n",
       " \"Ваня Шутак: 'Ебланы'\",\n",
       " \"Вася: 'Реще'\",\n",
       " \"Макс Бoбин: 'Тут все'\",\n",
       " \"Вася: 'Шлюхи нету за 40'\",\n",
       " \"Вася: 'С белым порше'\",\n",
       " \"Вася: 'Синим*'\",\n",
       " \"Вася: ''\"]"
      ]
     },
     "execution_count": 8,
     "metadata": {},
     "output_type": "execute_result"
    }
   ],
   "source": [
    "texts[0:10]"
   ]
  },
  {
   "cell_type": "code",
   "execution_count": 89,
   "id": "241109af-836d-45fc-a0c9-3ef046419ea8",
   "metadata": {},
   "outputs": [],
   "source": [
    "filename = \"teleset2.9.txt\""
   ]
  },
  {
   "cell_type": "code",
   "execution_count": 90,
   "id": "b4bd7c02-52ac-490b-abad-b623583f1fc6",
   "metadata": {},
   "outputs": [],
   "source": [
    "with open(filename, \"w\", encoding='utf-8') as f:\n",
    "    for i in texts:\n",
    "        f.write(i + \"<|endoftext|>\\n\")"
   ]
  },
  {
   "cell_type": "code",
   "execution_count": 99,
   "id": "36bb0209-79c5-4eef-8bfc-5dd2c8bc7ba4",
   "metadata": {},
   "outputs": [
    {
     "name": "stderr",
     "output_type": "stream",
     "text": [
      "IOPub data rate exceeded.\n",
      "The Jupyter server will temporarily stop sending output\n",
      "to the client in order to avoid crashing it.\n",
      "To change this limit, set the config variable\n",
      "`--ServerApp.iopub_data_rate_limit`.\n",
      "\n",
      "Current values:\n",
      "ServerApp.iopub_data_rate_limit=1000000.0 (bytes/sec)\n",
      "ServerApp.rate_limit_window=3.0 (secs)\n",
      "\n"
     ]
    }
   ],
   "source": [
    "texts = \"\"\n",
    "with open(filename, \"r\", encoding='utf-8') as f:\n",
    "    texts = f.read()\n",
    "print(texts)"
   ]
  },
  {
   "cell_type": "code",
   "execution_count": 9,
   "id": "11b8c858-7e7a-4aa4-a78c-9f6438786bd0",
   "metadata": {},
   "outputs": [],
   "source": [
    "from transformers import AutoTokenizer"
   ]
  },
  {
   "cell_type": "code",
   "execution_count": 10,
   "id": "9574d626-0ddc-4495-80ec-084fd6aebdc1",
   "metadata": {},
   "outputs": [
    {
     "name": "stderr",
     "output_type": "stream",
     "text": [
      "C:\\Users\\g1811\\AppData\\Local\\Programs\\Python\\Python312\\Lib\\site-packages\\transformers\\tokenization_utils_base.py:1601: FutureWarning: `clean_up_tokenization_spaces` was not set. It will be set to `True` by default. This behavior will be depracted in transformers v4.45, and will be then set to `False` by default. For more details check this issue: https://github.com/huggingface/transformers/issues/31884\n",
      "  warnings.warn(\n"
     ]
    }
   ],
   "source": [
    "context_length = 128\n",
    "tokenizer = AutoTokenizer.from_pretrained(\"gpt2\")\n",
    "tokenizer.pad_token = tokenizer.eos_token"
   ]
  },
  {
   "cell_type": "code",
   "execution_count": 86,
   "id": "f81a341a-ad38-4233-ac13-310cadfcdff7",
   "metadata": {},
   "outputs": [
    {
     "name": "stdout",
     "output_type": "stream",
     "text": [
      "<|endoftext|>\n"
     ]
    }
   ],
   "source": [
    "print(tokenizer.eos_token)"
   ]
  },
  {
   "cell_type": "code",
   "execution_count": 55,
   "id": "d075d10a-6f63-4f37-b849-da24e0d7d1b1",
   "metadata": {},
   "outputs": [],
   "source": [
    "def fully_tokenize(data, tokenizer, seq_len):\n",
    "    token_eos = tokenizer(tokenizer.eos_token)[\"input_ids\"]\n",
    "    tokens = [tokenizer(text) for text in data]\n",
    "    concatenated_tokens = []\n",
    "    for i in range(len(tokens)):\n",
    "        concatenated_tokens.extend(tokens[i][\"input_ids\"] + token_eos)\n",
    "    concatenated_len = len(concatenated_tokens)\n",
    "    print(\"Number of tokens:\", concatenated_len)\n",
    "    res_tokens = []\n",
    "    for i in range(0, concatenated_len - seq_len, seq_len):\n",
    "        res_tokens.append(concatenated_tokens[i:i+seq_len])\n",
    "    return res_tokens"
   ]
  },
  {
   "cell_type": "code",
   "execution_count": 56,
   "id": "abfb6148-78d8-455f-8f24-3212bf48833a",
   "metadata": {},
   "outputs": [
    {
     "name": "stdout",
     "output_type": "stream",
     "text": [
      "Number of tokens: 2918207\n"
     ]
    }
   ],
   "source": [
    "tokens = fully_tokenize(texts, tokenizer, 128)"
   ]
  },
  {
   "cell_type": "code",
   "execution_count": 59,
   "id": "68c66389-c0f3-45e7-98aa-cdccae1fea8b",
   "metadata": {},
   "outputs": [],
   "source": [
    "from transformers import DataCollatorForLanguageModeling\n",
    "\n",
    "tokenizer.pad_token = tokenizer.eos_token\n",
    "data_collator = DataCollatorForLanguageModeling(tokenizer, mlm=False)"
   ]
  },
  {
   "cell_type": "code",
   "execution_count": 63,
   "id": "52a306db-9770-4089-92c1-3147cf64bef8",
   "metadata": {},
   "outputs": [
    {
     "name": "stdout",
     "output_type": "stream",
     "text": [
      "torch.Size([3, 128])\n"
     ]
    }
   ],
   "source": [
    "out = data_collator(tokens[0:3])\n",
    "print(out[\"input_ids\"].size())"
   ]
  },
  {
   "cell_type": "code",
   "execution_count": 71,
   "id": "b257aa99-18e3-423d-9212-619c0e79cbeb",
   "metadata": {},
   "outputs": [],
   "source": [
    "from torch.utils.data import Dataset\n",
    "import random\n",
    "\n",
    "class TokenizedDataset(Dataset):\n",
    "    def __init__(self, token_lists):\n",
    "        self.token_lists = torch.tensor(token_lists)\n",
    "    def __len__(self):\n",
    "        return len(self.token_lists)\n",
    "    def __getitem__(self, idx):\n",
    "        tokenized_sentence = self.token_lists[idx]\n",
    "        return tokenized_sentence\n",
    "\n",
    "random.shuffle(tokens)\n",
    "train_size = int(len(tokens) * 0.95)\n",
    "train_tokens = TokenizedDataset(tokens[:train_size])\n",
    "test_tokens = TokenizedDataset(tokens[train_size:])"
   ]
  },
  {
   "cell_type": "code",
   "execution_count": 72,
   "id": "7b7805f1-28c8-478c-9827-87134ebe56e6",
   "metadata": {},
   "outputs": [
    {
     "name": "stdout",
     "output_type": "stream",
     "text": [
      "Train size: 21658\n",
      "Test size: 1140\n"
     ]
    }
   ],
   "source": [
    "print(\"Train size:\", len(train_tokens))\n",
    "print(\"Test size:\", len(test_tokens))"
   ]
  },
  {
   "cell_type": "code",
   "execution_count": 73,
   "id": "2708b725-5bbe-4c00-80f3-3db6bb6dd94e",
   "metadata": {},
   "outputs": [],
   "source": [
    "from transformers import GPT2Config, GPT2LMHeadModel\n",
    "config = GPT2Config(\n",
    "    vocab_size=tokenizer.vocab_size,  # Vocabulary size\n",
    "    n_positions=1024,                 # Maximum sequence length\n",
    "    n_embd=512,                       # Embedding dimension\n",
    "    n_inner=2048,                     # Hidden dimension for feed-forward layers\n",
    "    n_layer=16,                        # Number of transformer layers\n",
    "    n_head=16                          # Number of attention heads\n",
    ")\n",
    "model = GPT2LMHeadModel(config)"
   ]
  },
  {
   "cell_type": "code",
   "execution_count": 74,
   "id": "c9fee68a-a508-4843-bb30-a8bf43e88268",
   "metadata": {},
   "outputs": [],
   "source": [
    "from transformers import Trainer, TrainingArguments\n",
    "\n",
    "args = TrainingArguments(\n",
    "    output_dir=\"res_model\",\n",
    "    logging_dir='./logs',\n",
    "    per_device_train_batch_size=8,\n",
    "    per_device_eval_batch_size=8,\n",
    "    eval_strategy=\"steps\",\n",
    "    eval_steps=1_00,\n",
    "    logging_steps=1_00,\n",
    "    gradient_accumulation_steps=8,\n",
    "    num_train_epochs=1,\n",
    "    weight_decay=0.1,\n",
    "    warmup_steps=1_000,\n",
    "    lr_scheduler_type=\"cosine\",\n",
    "    learning_rate=5e-4,\n",
    "    save_steps=1_000,\n",
    "    fp16=True,\n",
    ")\n",
    "\n",
    "trainer = Trainer(\n",
    "    model=model,\n",
    "    tokenizer=tokenizer,\n",
    "    args=args,\n",
    "    data_collator=data_collator,\n",
    "    train_dataset=train_tokens,\n",
    "    eval_dataset=test_tokens,\n",
    ")"
   ]
  },
  {
   "cell_type": "code",
   "execution_count": 75,
   "id": "ca8aff0f-bd03-465b-9ca3-3bc6c337c594",
   "metadata": {},
   "outputs": [
    {
     "name": "stderr",
     "output_type": "stream",
     "text": [
      "C:\\Users\\g1811\\AppData\\Local\\Programs\\Python\\Python312\\Lib\\site-packages\\transformers\\models\\gpt2\\modeling_gpt2.py:544: UserWarning: 1Torch was not compiled with flash attention. (Triggered internally at ..\\aten\\src\\ATen\\native\\transformers\\cuda\\sdp_utils.cpp:455.)\n",
      "  attn_output = torch.nn.functional.scaled_dot_product_attention(\n"
     ]
    },
    {
     "data": {
      "text/html": [
       "\n",
       "    <div>\n",
       "      \n",
       "      <progress value='338' max='338' style='width:300px; height:20px; vertical-align: middle;'></progress>\n",
       "      [338/338 04:58, Epoch 0/1]\n",
       "    </div>\n",
       "    <table border=\"1\" class=\"dataframe\">\n",
       "  <thead>\n",
       " <tr style=\"text-align: left;\">\n",
       "      <th>Step</th>\n",
       "      <th>Training Loss</th>\n",
       "      <th>Validation Loss</th>\n",
       "    </tr>\n",
       "  </thead>\n",
       "  <tbody>\n",
       "    <tr>\n",
       "      <td>100</td>\n",
       "      <td>7.080100</td>\n",
       "      <td>4.557957</td>\n",
       "    </tr>\n",
       "    <tr>\n",
       "      <td>200</td>\n",
       "      <td>2.979400</td>\n",
       "      <td>1.721067</td>\n",
       "    </tr>\n",
       "    <tr>\n",
       "      <td>300</td>\n",
       "      <td>1.508500</td>\n",
       "      <td>1.349313</td>\n",
       "    </tr>\n",
       "  </tbody>\n",
       "</table><p>"
      ],
      "text/plain": [
       "<IPython.core.display.HTML object>"
      ]
     },
     "metadata": {},
     "output_type": "display_data"
    },
    {
     "name": "stdout",
     "output_type": "stream",
     "text": [
      "Attempted to log scalar metric loss:\n",
      "7.0801\n",
      "Attempted to log scalar metric grad_norm:\n",
      "5.270321846008301\n",
      "Attempted to log scalar metric learning_rate:\n",
      "5e-05\n",
      "Attempted to log scalar metric epoch:\n",
      "0.29542097488921715\n",
      "Attempted to log scalar metric eval_loss:\n",
      "4.557956695556641\n",
      "Attempted to log scalar metric eval_runtime:\n",
      "6.1297\n",
      "Attempted to log scalar metric eval_samples_per_second:\n",
      "185.98\n",
      "Attempted to log scalar metric eval_steps_per_second:\n",
      "23.329\n",
      "Attempted to log scalar metric epoch:\n",
      "0.29542097488921715\n",
      "Attempted to log scalar metric loss:\n",
      "2.9794\n",
      "Attempted to log scalar metric grad_norm:\n",
      "2.595330238342285\n",
      "Attempted to log scalar metric learning_rate:\n",
      "0.0001\n",
      "Attempted to log scalar metric epoch:\n",
      "0.5908419497784343\n",
      "Attempted to log scalar metric eval_loss:\n",
      "1.7210667133331299\n",
      "Attempted to log scalar metric eval_runtime:\n",
      "5.1584\n",
      "Attempted to log scalar metric eval_samples_per_second:\n",
      "221.0\n",
      "Attempted to log scalar metric eval_steps_per_second:\n",
      "27.722\n",
      "Attempted to log scalar metric epoch:\n",
      "0.5908419497784343\n",
      "Attempted to log scalar metric loss:\n",
      "1.5085\n",
      "Attempted to log scalar metric grad_norm:\n",
      "1.0858628749847412\n",
      "Attempted to log scalar metric learning_rate:\n",
      "0.00015\n",
      "Attempted to log scalar metric epoch:\n",
      "0.8862629246676514\n",
      "Attempted to log scalar metric eval_loss:\n",
      "1.3493125438690186\n",
      "Attempted to log scalar metric eval_runtime:\n",
      "5.569\n",
      "Attempted to log scalar metric eval_samples_per_second:\n",
      "204.706\n",
      "Attempted to log scalar metric eval_steps_per_second:\n",
      "25.678\n",
      "Attempted to log scalar metric epoch:\n",
      "0.8862629246676514\n",
      "Attempted to log scalar metric train_runtime:\n",
      "301.3327\n",
      "Attempted to log scalar metric train_samples_per_second:\n",
      "71.874\n",
      "Attempted to log scalar metric train_steps_per_second:\n",
      "1.122\n",
      "Attempted to log scalar metric total_flos:\n",
      "837964863111168.0\n",
      "Attempted to log scalar metric train_loss:\n",
      "3.5754596777921597\n",
      "Attempted to log scalar metric epoch:\n",
      "0.9985228951255539\n"
     ]
    }
   ],
   "source": [
    "train_result = trainer.train()"
   ]
  },
  {
   "cell_type": "code",
   "execution_count": 78,
   "id": "9e0cb875-d432-489b-a406-78e632d66a72",
   "metadata": {},
   "outputs": [
    {
     "data": {
      "image/png": "[encoded data removed]",
      "text/plain": [
       "<Figure size 1000x500 with 1 Axes>"
      ]
     },
     "metadata": {},
     "output_type": "display_data"
    }
   ],
   "source": [
    "history = trainer.state.log_history\n",
    "history_df = pd.DataFrame(history)\n",
    "plt.figure(figsize=(10, 5))\n",
    "\n",
    "#train_loss = history_df[history_df['loss'].notna()]\n",
    "eval_loss = history_df[history_df['eval_loss'].notna()]\n",
    "\n",
    "#plt.plot(train_loss['step'], train_loss['loss'], label='Training Loss')\n",
    "\n",
    "plt.plot(eval_loss['step'], eval_loss['eval_loss'], label='Evaluation Loss')\n",
    "\n",
    "plt.xlabel(\"Steps\")\n",
    "plt.ylabel(\"Loss\")\n",
    "plt.title(\"Training and Evaluation Loss over Steps\")\n",
    "plt.legend()\n",
    "plt.show()"
   ]
  },
  {
   "cell_type": "code",
   "execution_count": 81,
   "id": "ac2964d4-b604-454f-97ba-28b4310b205e",
   "metadata": {},
   "outputs": [
    {
     "name": "stdout",
     "output_type": "stream",
     "text": [
      "what do you knowkio сбино колел' м : 'Егор нал мене прапаша'-Макс Бoжн: '�нучи' ответил Hryhorii Kozak ва : '' ниемасоо�\n"
     ]
    }
   ],
   "source": [
    "prompt_text = \"what do you know\"\n",
    "#prompt_text = \"The causes of World War II included unresolved tensions in the aftermath of World War I \"\n",
    "inputs = tokenizer(prompt_text, return_tensors=\"pt\", padding=True, truncation=True).to(device)\n",
    "\n",
    "generated_output = model.generate(\n",
    "    input_ids=inputs['input_ids'],            # Input tokens\n",
    "    attention_mask=inputs['attention_mask'],  # Include attention mask\n",
    "    max_length=100,       # Maximum length of generated text (including prompt)\n",
    "    num_return_sequences=1, # Number of generated sequences\n",
    "    no_repeat_ngram_size=2, # Avoid repeating n-grams\n",
    "    do_sample=True,       # Sampling instead of greedy decoding for more randomness\n",
    "    temperature=0.7,      # Controls the creativity (lower is more deterministic, higher more creative)\n",
    "    top_k=50,             # Limits sampling to the top-k most likely words\n",
    "    top_p=0.9,             # Nucleus sampling, keeps the top-p cumulative probability\n",
    "    pad_token_id=tokenizer.eos_token_id  # Set pad_token_id to eos_token_id\n",
    ")\n",
    "\n",
    "generated_text = tokenizer.decode(generated_output[0], skip_special_tokens=True)\n",
    "print(generated_text)"
   ]
  },
  {
   "cell_type": "code",
   "execution_count": null,
   "id": "7feaffae-5cda-4399-87bb-b215a0f662d5",
   "metadata": {},
   "outputs": [],
   "source": []
  }
 ],
 "metadata": {
  "kernelspec": {
   "display_name": "Python 3 (ipykernel)",
   "language": "python",
   "name": "python3"
  },
  "language_info": {
   "codemirror_mode": {
    "name": "ipython",
    "version": 3
   },
   "file_extension": ".py",
   "mimetype": "text/x-python",
   "name": "python",
   "nbconvert_exporter": "python",
   "pygments_lexer": "ipython3",
   "version": "3.12.4"
  }
 },
 "nbformat": 4,
 "nbformat_minor": 5
}
