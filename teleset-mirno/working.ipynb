{
 "cells": [
  {
   "cell_type": "code",
   "execution_count": 1,
   "id": "aebcfc2f-7f34-45ea-9991-8697dad4c0f4",
   "metadata": {},
   "outputs": [],
   "source": [
    "import json"
   ]
  },
  {
   "cell_type": "code",
   "execution_count": 3,
   "id": "ed306d51-5e83-4ac6-943d-c137b1ba18b5",
   "metadata": {},
   "outputs": [],
   "source": [
    "with open('mirno1.json', 'r', encoding='utf-8') as file:\n",
    "    parsed_data1 = json.load(file)"
   ]
  },
  {
   "cell_type": "code",
   "execution_count": 4,
   "id": "29d57c5a-811b-4389-a785-251953b94738",
   "metadata": {},
   "outputs": [],
   "source": [
    "with open('mirno2.json', 'r', encoding='utf-8') as file:\n",
    "    parsed_data2 = json.load(file)"
   ]
  },
  {
   "cell_type": "code",
   "execution_count": 9,
   "id": "0c128b67-9986-4c07-bf22-d1e40fd4750f",
   "metadata": {},
   "outputs": [],
   "source": [
    "array = []\n",
    "j = 0\n",
    "for i, element in enumerate(parsed_data1.items()):\n",
    "    array.append(element)\n",
    "    if i > 10:\n",
    "        break\n",
    "for i, element in enumerate(parsed_data2.items()):\n",
    "    array.append(element)\n",
    "    if i > 10:\n",
    "        break"
   ]
  },
  {
   "cell_type": "code",
   "execution_count": 10,
   "id": "3af0322c-a7d1-4f8b-9cb1-59ec0e9aab59",
   "metadata": {},
   "outputs": [],
   "source": [
    "data = array[3][1] + array[7][1]"
   ]
  },
  {
   "cell_type": "code",
   "execution_count": 11,
   "id": "68dacc82-d4d2-4464-8692-5f349f063c6f",
   "metadata": {},
   "outputs": [
    {
     "data": {
      "text/plain": [
       "198809"
      ]
     },
     "execution_count": 11,
     "metadata": {},
     "output_type": "execute_result"
    }
   ],
   "source": [
    "len(data)"
   ]
  },
  {
   "cell_type": "code",
   "execution_count": 18,
   "id": "1c00bea5-c684-4842-b3f6-18c6d615de5a",
   "metadata": {},
   "outputs": [],
   "source": [
    "def get_text(ms_text):\n",
    "    text = \": '\"\n",
    "    if type(ms_text) == list:\n",
    "        for ms in ms_text:\n",
    "            if type(ms) == dict:\n",
    "                if ms[\"type\"] == \"mention_name\" or ms[\"type\"] == \"mention\":\n",
    "                    text += ms[\"text\"]\n",
    "                elif ms[\"type\"] == \"link\":\n",
    "                    text += ms[\"text\"]\n",
    "                elif ms[\"type\"] == \"text_link\":\n",
    "                    text += ms[\"text\"] + ms[\"href\"]\n",
    "                elif ms[\"type\"] == \"bank_card\":\n",
    "                    text += ms[\"text\"]\n",
    "                elif ms[\"type\"] == \"bold\":\n",
    "                    text += ms[\"text\"]\n",
    "                elif ms[\"type\"] == \"custom_emoji\":\n",
    "                    text += ms[\"text\"]\n",
    "                elif ms[\"type\"] == \"underline\":\n",
    "                    text += ms[\"text\"]\n",
    "                elif ms[\"type\"] == \"strikethrough\":\n",
    "                    text += ms[\"text\"]\n",
    "                elif ms[\"type\"] == \"bot_command\":\n",
    "                    text += ms[\"text\"]\n",
    "                elif ms[\"type\"] == \"phone\":\n",
    "                    text += ms[\"text\"]\n",
    "                elif ms[\"type\"] == \"hashtag\":\n",
    "                    text += \"хештег \" + ms[\"text\"]\n",
    "                elif ms[\"type\"] == \"italic\":\n",
    "                    text += ms[\"text\"]\n",
    "                elif ms[\"type\"] == \"blockquote\":\n",
    "                    text += ms[\"text\"]\n",
    "                elif ms[\"type\"] == \"spoiler\":\n",
    "                    text += ms[\"text\"]\n",
    "                elif ms[\"type\"] == \"code\":\n",
    "                    text += ms[\"text\"]\n",
    "                else:\n",
    "                    try:\n",
    "                        text += ms\n",
    "                    except:\n",
    "                        print(ms)\n",
    "    else:\n",
    "        text += ms_text\n",
    "    text += \"'\"\n",
    "    return text"
   ]
  },
  {
   "cell_type": "code",
   "execution_count": 19,
   "id": "efca2f9a-5129-425d-a9f4-10e1a72115a1",
   "metadata": {},
   "outputs": [],
   "source": [
    "ids_to_text = {}\n",
    "for i in data:\n",
    "    if i[\"type\"] == \"message\":\n",
    "        ids_to_text[i[\"id\"]] = {\n",
    "            \"from\": i[\"from\"],\n",
    "            \"text\": get_text(i[\"text\"])\n",
    "        }\n",
    "    elif i[\"type\"] == \"service\":\n",
    "        ids_to_text[i[\"id\"]] = {\n",
    "            \"from\": i[\"actor\"],\n",
    "            \"text\": get_text(i[\"text\"])\n",
    "        }"
   ]
  },
  {
   "cell_type": "code",
   "execution_count": 20,
   "id": "73298642-806f-45d1-94c5-68cc5fc7db70",
   "metadata": {},
   "outputs": [],
   "source": [
    "texts = []\n",
    "for message in data:\n",
    "    text = \"\"\n",
    "    if message[\"type\"] == \"message\":\n",
    "        ms_text = message[\"text\"]\n",
    "        ms_from = message[\"from\"]\n",
    "        # User name\n",
    "        if ms_from != None:\n",
    "            text += ms_from\n",
    "        else:\n",
    "            text += \"Unknown User\"\n",
    "        # Reply\n",
    "        if \"reply_to_message_id\" in message.keys():\n",
    "            ms_reply_id = message[\"reply_to_message_id\"]\n",
    "            try:\n",
    "                text += \" ответил \" + ids_to_text[ms_reply_id][\"from\"] + \" на \" + ids_to_text[ms_reply_id][\"text\"] + \" сообщением \"\n",
    "            except:\n",
    "                pass\n",
    "        text +=  get_text(ms_text)\n",
    "        #print(\"from:\", message[\"from\"], \"text:\", message[\"text\"])\n",
    "    if text != \"\":\n",
    "        texts.append(text)"
   ]
  },
  {
   "cell_type": "code",
   "execution_count": 21,
   "id": "a0af389d-0205-4462-8cf3-194621b3fa9f",
   "metadata": {},
   "outputs": [
    {
     "data": {
      "text/plain": [
       "197995"
      ]
     },
     "execution_count": 21,
     "metadata": {},
     "output_type": "execute_result"
    }
   ],
   "source": [
    "len(texts)"
   ]
  },
  {
   "cell_type": "code",
   "execution_count": 26,
   "id": "14e03dde-654a-4fb1-bae2-d0e674ff9108",
   "metadata": {},
   "outputs": [
    {
     "data": {
      "text/plain": [
       "[\"Sobirapp Birthdays: 'ЕгорЕгор'\",\n",
       " \"Егор Турецкий: 'Ой'\",\n",
       " \"Никитос: 'С др Егор'\",\n",
       " \"Егор Турецкий: 'Пасиб'\"]"
      ]
     },
     "execution_count": 26,
     "metadata": {},
     "output_type": "execute_result"
    }
   ],
   "source": [
    "texts[-5:-1]"
   ]
  },
  {
   "cell_type": "code",
   "execution_count": 23,
   "id": "96e712f9-6ed6-462b-9ed2-344db9240f89",
   "metadata": {},
   "outputs": [],
   "source": [
    "filename = \"teleset-mirno.txt\""
   ]
  },
  {
   "cell_type": "code",
   "execution_count": 24,
   "id": "2a103cb9-9f35-4a89-99c2-09eb4b55561a",
   "metadata": {},
   "outputs": [],
   "source": [
    "with open(filename, \"w\", encoding='utf-8') as f:\n",
    "    for i in texts:\n",
    "        f.write(i + \"<|endoftext|>\\n\")"
   ]
  },
  {
   "cell_type": "code",
   "execution_count": null,
   "id": "28643169-57d0-4ed5-b55d-2bd2f746974e",
   "metadata": {},
   "outputs": [],
   "source": []
  }
 ],
 "metadata": {
  "kernelspec": {
   "display_name": "Python 3 (ipykernel)",
   "language": "python",
   "name": "python3"
  },
  "language_info": {
   "codemirror_mode": {
    "name": "ipython",
    "version": 3
   },
   "file_extension": ".py",
   "mimetype": "text/x-python",
   "name": "python",
   "nbconvert_exporter": "python",
   "pygments_lexer": "ipython3",
   "version": "3.12.4"
  }
 },
 "nbformat": 4,
 "nbformat_minor": 5
}
