{
 "cells": [
  {
   "cell_type": "code",
   "execution_count": 1,
   "id": "05130f0a-d4a9-46b2-9dd9-d772b84f0216",
   "metadata": {},
   "outputs": [],
   "source": [
    "import json"
   ]
  },
  {
   "cell_type": "code",
   "execution_count": 5,
   "id": "733f0468-94f7-48ec-8bd3-9c9cbcc1e348",
   "metadata": {},
   "outputs": [],
   "source": [
    "with open('mirno1.json', 'r', encoding='utf-8') as file:\n",
    "    parsed_mirno1 = json.load(file)"
   ]
  },
  {
   "cell_type": "code",
   "execution_count": 3,
   "id": "12413e3f-c725-4937-915b-967d92dee06d",
   "metadata": {},
   "outputs": [],
   "source": [
    "with open('mirno2.json', 'r', encoding='utf-8') as file:\n",
    "    parsed_mirno2 = json.load(file)"
   ]
  },
  {
   "cell_type": "code",
   "execution_count": 4,
   "id": "91bb1a1f-005c-4799-88dc-be8721ce13f1",
   "metadata": {},
   "outputs": [],
   "source": [
    "with open('artsiz.json', 'r', encoding='utf-8') as file:\n",
    "    parsed_data1 = json.load(file)"
   ]
  },
  {
   "cell_type": "code",
   "execution_count": 6,
   "id": "1684dc76-d606-4282-83fa-f8c0331d0a6f",
   "metadata": {},
   "outputs": [],
   "source": [
    "with open('cv.json', 'r', encoding='utf-8') as file:\n",
    "    parsed_data2 = json.load(file)"
   ]
  },
  {
   "cell_type": "code",
   "execution_count": 7,
   "id": "17ad45fd-54ac-4308-b3e9-fff30dbd8493",
   "metadata": {},
   "outputs": [],
   "source": [
    "with open('frank1.json', 'r', encoding='utf-8') as file:\n",
    "    parsed_data3 = json.load(file)"
   ]
  },
  {
   "cell_type": "code",
   "execution_count": 8,
   "id": "203ddb44-3a15-494a-8c68-e602509e41ae",
   "metadata": {},
   "outputs": [],
   "source": [
    "with open('kpi11.json', 'r', encoding='utf-8') as file:\n",
    "    parsed_data4 = json.load(file)"
   ]
  },
  {
   "cell_type": "code",
   "execution_count": 9,
   "id": "5b79e29e-175c-442c-95b1-0cbfd30a188a",
   "metadata": {},
   "outputs": [],
   "source": [
    "with open('mainz.json', 'r', encoding='utf-8') as file:\n",
    "    parsed_data5 = json.load(file)"
   ]
  },
  {
   "cell_type": "code",
   "execution_count": 20,
   "id": "e8244d3e-ac8f-4d28-9e7a-f4c8e4dc86e2",
   "metadata": {},
   "outputs": [],
   "source": [
    "data = []\n",
    "files = [parsed_mirno1, parsed_mirno2, parsed_data1, parsed_data2, parsed_data3, parsed_data4, parsed_data5]\n",
    "\n",
    "for file in files:\n",
    "    array = []\n",
    "    for i, element in enumerate(file.items()):\n",
    "        array.append(element)\n",
    "        if i > 10:\n",
    "            break\n",
    "    data.append(array[3][1])"
   ]
  },
  {
   "cell_type": "code",
   "execution_count": 23,
   "id": "e58a66e4-e730-4dc1-9339-a5103384ec15",
   "metadata": {},
   "outputs": [
    {
     "data": {
      "text/plain": [
       "135032"
      ]
     },
     "execution_count": 23,
     "metadata": {},
     "output_type": "execute_result"
    }
   ],
   "source": [
    "len(data[1])"
   ]
  },
  {
   "cell_type": "code",
   "execution_count": 18,
   "id": "f8754b03-2e9a-4a21-982d-a3e117a458a4",
   "metadata": {},
   "outputs": [],
   "source": [
    "def get_text(ms_text):\n",
    "    text = \": '\"\n",
    "    if type(ms_text) == list:\n",
    "        for ms in ms_text:\n",
    "            if type(ms) == dict:\n",
    "                if ms[\"type\"] == \"mention_name\" or ms[\"type\"] == \"mention\":\n",
    "                    text += ms[\"text\"]\n",
    "                elif ms[\"type\"] == \"link\":\n",
    "                    text += ms[\"text\"]\n",
    "                elif ms[\"type\"] == \"text_link\":\n",
    "                    text += ms[\"text\"] + ms[\"href\"]\n",
    "                elif ms[\"type\"] == \"bank_card\":\n",
    "                    text += ms[\"text\"]\n",
    "                elif ms[\"type\"] == \"bold\":\n",
    "                    text += ms[\"text\"]\n",
    "                elif ms[\"type\"] == \"custom_emoji\":\n",
    "                    text += ms[\"text\"]\n",
    "                elif ms[\"type\"] == \"underline\":\n",
    "                    text += ms[\"text\"]\n",
    "                elif ms[\"type\"] == \"strikethrough\":\n",
    "                    text += ms[\"text\"]\n",
    "                elif ms[\"type\"] == \"bot_command\":\n",
    "                    text += ms[\"text\"]\n",
    "                elif ms[\"type\"] == \"phone\":\n",
    "                    text += ms[\"text\"]\n",
    "                elif ms[\"type\"] == \"hashtag\":\n",
    "                    text += \"хештег \" + ms[\"text\"]\n",
    "                elif ms[\"type\"] == \"italic\":\n",
    "                    text += ms[\"text\"]\n",
    "                elif ms[\"type\"] == \"blockquote\":\n",
    "                    text += ms[\"text\"]\n",
    "                elif ms[\"type\"] == \"spoiler\":\n",
    "                    text += ms[\"text\"]\n",
    "                elif ms[\"type\"] == \"code\":\n",
    "                    text += ms[\"text\"]\n",
    "                elif ms[\"type\"] == \"email\":\n",
    "                    text += ms[\"text\"]\n",
    "                elif ms[\"type\"] == \"pre\":\n",
    "                    text += ms[\"text\"]\n",
    "                else:\n",
    "                    try:\n",
    "                        text += ms\n",
    "                    except:\n",
    "                        print(ms)\n",
    "    else:\n",
    "        text += ms_text\n",
    "    text += \"'\"\n",
    "    return text"
   ]
  },
  {
   "cell_type": "code",
   "execution_count": 27,
   "id": "c4952b51-24c5-4ed0-aab4-81330a30bf68",
   "metadata": {},
   "outputs": [],
   "source": [
    "chat_ids_to_text = []\n",
    "for chat in data:\n",
    "    ids_to_text = {}\n",
    "    for i in chat:\n",
    "        if i[\"type\"] == \"message\":\n",
    "            ids_to_text[i[\"id\"]] = {\n",
    "                \"from\": i[\"from\"],\n",
    "                \"text\": get_text(i[\"text\"])\n",
    "            }\n",
    "        elif i[\"type\"] == \"service\":\n",
    "            try:\n",
    "                ids_to_text[i[\"id\"]] = {\n",
    "                    \"from\": i[\"actor\"],\n",
    "                    \"text\": get_text(i[\"text\"])\n",
    "                }\n",
    "            except:\n",
    "                ids_to_text[i[\"id\"]] = {\n",
    "                    \"from\": \"Unknown User\",\n",
    "                    \"text\": get_text(i[\"text\"])\n",
    "                }\n",
    "    chat_ids_to_text.append(ids_to_text)"
   ]
  },
  {
   "cell_type": "code",
   "execution_count": 28,
   "id": "48dcbb76-6c0b-45dc-8e95-354a2912bb05",
   "metadata": {},
   "outputs": [],
   "source": [
    "texts = []\n",
    "for chat in data:\n",
    "    for message in chat:\n",
    "        text = \"\"\n",
    "        if message[\"type\"] == \"message\":\n",
    "            ms_text = message[\"text\"]\n",
    "            ms_from = message[\"from\"]\n",
    "            # User name\n",
    "            if ms_from != None:\n",
    "                text += ms_from\n",
    "            else:\n",
    "                text += \"Unknown User\"\n",
    "            # Reply\n",
    "            if \"reply_to_message_id\" in message.keys():\n",
    "                ms_reply_id = message[\"reply_to_message_id\"]\n",
    "                try:\n",
    "                    text += \" ответил \" + ids_to_text[ms_reply_id][\"from\"] + \" на \" + ids_to_text[ms_reply_id][\"text\"] + \" сообщением \"\n",
    "                except:\n",
    "                    pass\n",
    "            text +=  get_text(ms_text)\n",
    "            #print(\"from:\", message[\"from\"], \"text:\", message[\"text\"])\n",
    "        if text != \"\":\n",
    "            texts.append(text)"
   ]
  },
  {
   "cell_type": "code",
   "execution_count": 29,
   "id": "031ad904-ff3b-4912-b35a-a7772b1c9564",
   "metadata": {},
   "outputs": [
    {
     "data": {
      "text/plain": [
       "835535"
      ]
     },
     "execution_count": 29,
     "metadata": {},
     "output_type": "execute_result"
    }
   ],
   "source": [
    "len(texts)"
   ]
  },
  {
   "cell_type": "code",
   "execution_count": 30,
   "id": "f4e27928-0c05-4745-8f43-8dc21c227b99",
   "metadata": {},
   "outputs": [
    {
     "data": {
      "text/plain": [
       "[\"🇩🇪👻 ответил Yuno.𒉭 на : 'Я не хочу тут жит' сообщением : 'придётся если уже туда приехала'\",\n",
       " \"Yuno.𒉭 ответил 🇩🇪👻 на : 'придётся если уже туда приехала' сообщением : 'Да блять меня заставили гахуй'\",\n",
       " \"Yuno.𒉭: 'Убейте мея'\",\n",
       " \"🇩🇪👻 ответил Yuno.𒉭 на : 'Да блять меня заставили гахуй' сообщением : 'а ну.. заставь их назад вернутся'\"]"
      ]
     },
     "execution_count": 30,
     "metadata": {},
     "output_type": "execute_result"
    }
   ],
   "source": [
    "texts[-5:-1]"
   ]
  },
  {
   "cell_type": "code",
   "execution_count": 34,
   "id": "ecb20e09-c462-418b-937e-9bd7057c70fc",
   "metadata": {},
   "outputs": [],
   "source": [
    "filename = \"teleset-big1-835k.txt\""
   ]
  },
  {
   "cell_type": "code",
   "execution_count": 35,
   "id": "373ccc85-f634-4c2e-89c6-61371d236ed5",
   "metadata": {},
   "outputs": [],
   "source": [
    "with open(filename, \"w\", encoding='utf-8') as f:\n",
    "    for i in texts:\n",
    "        f.write(i + \"<|endoftext|>\\n\")"
   ]
  },
  {
   "cell_type": "code",
   "execution_count": null,
   "id": "f1e944ed-3f4d-4fe6-ba5b-d295815d279e",
   "metadata": {},
   "outputs": [],
   "source": []
  }
 ],
 "metadata": {
  "kernelspec": {
   "display_name": "Python 3 (ipykernel)",
   "language": "python",
   "name": "python3"
  },
  "language_info": {
   "codemirror_mode": {
    "name": "ipython",
    "version": 3
   },
   "file_extension": ".py",
   "mimetype": "text/x-python",
   "name": "python",
   "nbconvert_exporter": "python",
   "pygments_lexer": "ipython3",
   "version": "3.12.4"
  }
 },
 "nbformat": 4,
 "nbformat_minor": 5
}
